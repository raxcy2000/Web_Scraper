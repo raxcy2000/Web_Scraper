{
 "cells": [
  {
   "cell_type": "markdown",
   "id": "50d36ffd",
   "metadata": {},
   "source": [
    "# Web Scraping using Beautiful Soup - Python"
   ]
  },
  {
   "cell_type": "markdown",
   "id": "2842ec97",
   "metadata": {},
   "source": [
    "The tutorial followed is from [Real Python](https://realpython.com/beautiful-soup-web-scraper-python/#decipher-the-information-in-urls)"
   ]
  },
  {
   "cell_type": "markdown",
   "id": "022c720d",
   "metadata": {},
   "source": [
    "scraped website is [PLAYFINDER](https://www.playfinder.com/uk/results/cricket/london?latitude=51.5522353&longitude=-0.0616466&radius=5mi&page=1&refine=true)"
   ]
  },
  {
   "cell_type": "code",
   "execution_count": 1,
   "id": "f23f3063",
   "metadata": {},
   "outputs": [
    {
     "data": {
      "text/html": [
       "<style>.container { width:100% !important; }</style>"
      ],
      "text/plain": [
       "<IPython.core.display.HTML object>"
      ]
     },
     "metadata": {},
     "output_type": "display_data"
    }
   ],
   "source": [
    "import requests\n",
    "from bs4 import BeautifulSoup\n",
    "import csv\n",
    "\n",
    "import pandas as pd\n",
    "pd.set_option(\"display.max_columns\", None)\n",
    "pd.set_option(\"display.max_rows\", None)\n",
    "pd.options.display.max_colwidth = None\n",
    "pd.set_option(\"display.float_format\", lambda x: '%.2f' % x)\n",
    "\n",
    "from IPython.display import display, HTML\n",
    "display(HTML(\"<style>.container { width:100% !important; }</style>\"))"
   ]
  },
  {
   "cell_type": "markdown",
   "id": "89fd18ab",
   "metadata": {},
   "source": [
    "## Understanding the Information in URLs"
   ]
  },
  {
   "cell_type": "markdown",
   "id": "4720c987",
   "metadata": {},
   "source": [
    "- You can deconstruct the URL into two main parts:\n",
    "\n",
    "    - 1) The base URL represents the path to the search functionality of the website. \n",
    "    - 2) The specific site location at the latter part or the url is the path to the specific resource."
   ]
  },
  {
   "cell_type": "markdown",
   "id": "0bbc8170",
   "metadata": {},
   "source": [
    "Example 1: `https://realpython.github.io/fake-jobs/jobs/senior-python-developer-0.html`\n",
    "\n",
    "In the example above, the base URL is `https://realpython.github.io/fake-jobs/`\n",
    "\n",
    "The specific specific site location is `jobs/senior-python-developer-0.html`\n"
   ]
  },
  {
   "cell_type": "markdown",
   "id": "26b2c5fa",
   "metadata": {},
   "source": [
    "Example 2: `https://au.indeed.com/jobs?q=software+developer&l=Australia`\n",
    "\n",
    "Some websites use query parameters to encode values that you submit when performing a search. e.g query strings that you send to the database to retrieve specific records. The parameters will be at the end of a URL. \n",
    "\n",
    "For example, if you go to Indeed and search for “software developer” in “Australia”, you’ll see that the URL changes to include these values as query parameters:\n",
    "\n",
    "`https://au.indeed.com/jobs?q=software+developer&l=Australia`\n",
    "\n",
    "The query parameters in this URL are ?q=software+developer&l=Australia. Query parameters consist of three parts:\n",
    "\n",
    "**1. Start:** The beginning of the query parameters is denoted by a question mark `(?)`.\n",
    "\n",
    "**2. Information:** The pieces of information constituting one query parameter are encoded in key-value pairs, where related keys and values are joined together by an equals sign (key=value).\n",
    "\n",
    "**3. Separator:** Every URL can have multiple query parameters, separated by an ampersand symbol `(&)`.\n",
    "Equipped with this information, you can pick apart the URL’s query parameters into two key-value pairs:\n",
    "\n",
    "`q=software+developer selects the type of job.`\n",
    "\n",
    "`l=Australia selects the location of the job.`\n"
   ]
  },
  {
   "cell_type": "markdown",
   "id": "031030fa",
   "metadata": {},
   "source": [
    "## Inspect the Site Using Developer Tools"
   ]
  },
  {
   "cell_type": "markdown",
   "id": "46a5ea91",
   "metadata": {},
   "source": [
    "In Chrome on macOS, you can open up the developer tools through the menu by selecting View → Developer → Developer Tools. On Windows and Linux, you can access them by clicking the top-right menu button (⋮) and selecting More Tools → Developer Tools."
   ]
  },
  {
   "cell_type": "markdown",
   "id": "6ef0fce2",
   "metadata": {},
   "source": [
    "## Scrape HTML Content From a Page"
   ]
  },
  {
   "cell_type": "markdown",
   "id": "bcca9782",
   "metadata": {},
   "source": [
    "From inspection, this website has 4 pages. Get the URLs for the four pages."
   ]
  },
  {
   "cell_type": "code",
   "execution_count": 2,
   "id": "1c4dd520",
   "metadata": {},
   "outputs": [],
   "source": [
    "num = [1, 2, 3, 4]\n",
    "\n",
    "url_list = []\n",
    "for i in num:\n",
    "    base_url = f\"https://www.playfinder.com/uk/results/cricket/london?latitude=51.5522353&longitude=-0.0616466&radius=5mi&page={i}&refine=true\"\n",
    "    url_list.append(base_url)\n"
   ]
  },
  {
   "cell_type": "code",
   "execution_count": 3,
   "id": "919e4e58",
   "metadata": {},
   "outputs": [
    {
     "data": {
      "text/plain": [
       "['https://www.playfinder.com/uk/results/cricket/london?latitude=51.5522353&longitude=-0.0616466&radius=5mi&page=1&refine=true',\n",
       " 'https://www.playfinder.com/uk/results/cricket/london?latitude=51.5522353&longitude=-0.0616466&radius=5mi&page=2&refine=true',\n",
       " 'https://www.playfinder.com/uk/results/cricket/london?latitude=51.5522353&longitude=-0.0616466&radius=5mi&page=3&refine=true',\n",
       " 'https://www.playfinder.com/uk/results/cricket/london?latitude=51.5522353&longitude=-0.0616466&radius=5mi&page=4&refine=true']"
      ]
     },
     "execution_count": 3,
     "metadata": {},
     "output_type": "execute_result"
    }
   ],
   "source": [
    "url_list"
   ]
  },
  {
   "cell_type": "code",
   "execution_count": 4,
   "id": "fea26827",
   "metadata": {},
   "outputs": [],
   "source": [
    "# html_text = requests.get(url).text\n",
    "# soup = BeautifulSoup(html_text, \"html.parser\")"
   ]
  },
  {
   "cell_type": "code",
   "execution_count": 5,
   "id": "3a3915dd",
   "metadata": {},
   "outputs": [],
   "source": [
    "all_venues = []\n",
    "\n",
    "for url in url_list:\n",
    "    response = requests.get(url)\n",
    "    soup = BeautifulSoup(response.text, \"html.parser\")\n",
    "    venues = soup.find_all('div', {'class': \"col-12 col-lg-5 col-xl-6\"})\n",
    "    \n",
    "    all_venues.extend(venues)"
   ]
  },
  {
   "cell_type": "code",
   "execution_count": 6,
   "id": "fdc706ad",
   "metadata": {},
   "outputs": [
    {
     "data": {
      "text/plain": [
       "74"
      ]
     },
     "execution_count": 6,
     "metadata": {},
     "output_type": "execute_result"
    }
   ],
   "source": [
    "len(all_venues)"
   ]
  },
  {
   "cell_type": "code",
   "execution_count": 7,
   "id": "a343f1a6",
   "metadata": {},
   "outputs": [],
   "source": [
    "\n",
    "my_dict = {\"name\":[],\"address\":[],\"format\":[],\"surface\":[]};\n",
    "\n",
    "\n",
    "for j, venue in zip(range(len(all_venues)), all_venues):\n",
    "    name = venue.find(\"h2\").text.strip()\n",
    "    \n",
    "    address = venue.find(\"p\", class_=\"mb-1 body3\").text.strip()\n",
    "    \n",
    "    facilities = [f.text.strip() for f in venue.find_all(\"p\", class_=\"mb-3 body3 d-none d-md-block\")]\n",
    "    format_surface = facilities[0].split('\\n                                \\n')\n",
    "    \n",
    "    format_ = format_surface[0].split(':')[-1]\n",
    "    surface_ = format_surface[1].split('\\n')[-1]\n",
    "    \n",
    "    my_dict[\"name\"].append(name)\n",
    "    my_dict[\"address\"].append(address)\n",
    "    my_dict[\"format\"].append(format_)\n",
    "    my_dict[\"surface\"].append(surface_)"
   ]
  },
  {
   "cell_type": "code",
   "execution_count": 8,
   "id": "e5e48b44",
   "metadata": {},
   "outputs": [
    {
     "data": {
      "text/plain": [
       "dict_keys(['name', 'address', 'format', 'surface'])"
      ]
     },
     "execution_count": 8,
     "metadata": {},
     "output_type": "execute_result"
    }
   ],
   "source": [
    "my_dict.keys()"
   ]
  },
  {
   "cell_type": "code",
   "execution_count": 9,
   "id": "d71bd5b7",
   "metadata": {},
   "outputs": [],
   "source": [
    "# my_dict.values()"
   ]
  },
  {
   "cell_type": "code",
   "execution_count": 10,
   "id": "0ff7be5b",
   "metadata": {},
   "outputs": [],
   "source": [
    "data = pd.DataFrame(my_dict)"
   ]
  },
  {
   "cell_type": "code",
   "execution_count": 11,
   "id": "7261ede4",
   "metadata": {},
   "outputs": [
    {
     "data": {
      "text/html": [
       "<div>\n",
       "<style scoped>\n",
       "    .dataframe tbody tr th:only-of-type {\n",
       "        vertical-align: middle;\n",
       "    }\n",
       "\n",
       "    .dataframe tbody tr th {\n",
       "        vertical-align: top;\n",
       "    }\n",
       "\n",
       "    .dataframe thead th {\n",
       "        text-align: right;\n",
       "    }\n",
       "</style>\n",
       "<table border=\"1\" class=\"dataframe\">\n",
       "  <thead>\n",
       "    <tr style=\"text-align: right;\">\n",
       "      <th></th>\n",
       "      <th>name</th>\n",
       "      <th>address</th>\n",
       "      <th>format</th>\n",
       "      <th>surface</th>\n",
       "    </tr>\n",
       "  </thead>\n",
       "  <tbody>\n",
       "    <tr>\n",
       "      <th>0</th>\n",
       "      <td>Mossbourne Community Academy</td>\n",
       "      <td>100 Downs Park Road, Hackney Downs, London, E5 8JY</td>\n",
       "      <td>nets</td>\n",
       "      <td>sports hall</td>\n",
       "    </tr>\n",
       "    <tr>\n",
       "      <th>1</th>\n",
       "      <td>Mossbourne Victoria Park Academy</td>\n",
       "      <td>Victoria Park Road, Hackney, London, E9 7HD</td>\n",
       "      <td>nets</td>\n",
       "      <td>sports hall</td>\n",
       "    </tr>\n",
       "    <tr>\n",
       "      <th>2</th>\n",
       "      <td>Low Hall Sports Ground</td>\n",
       "      <td>South Access Road, Walthamstow, Waltham Forest, E17 8AX</td>\n",
       "      <td>pitch</td>\n",
       "      <td>grass</td>\n",
       "    </tr>\n",
       "    <tr>\n",
       "      <th>3</th>\n",
       "      <td>Hackney Downs Park</td>\n",
       "      <td>Downs Park Road, Shacklewell, Hackney, E5 8NP</td>\n",
       "      <td>full size</td>\n",
       "      <td>artificial</td>\n",
       "    </tr>\n",
       "    <tr>\n",
       "      <th>4</th>\n",
       "      <td>Millfields Park</td>\n",
       "      <td>Millfields Park, Millfields Road,  Hackney, Hackney, E5 0AR</td>\n",
       "      <td>full size</td>\n",
       "      <td>grass</td>\n",
       "    </tr>\n",
       "    <tr>\n",
       "      <th>5</th>\n",
       "      <td>London Fields</td>\n",
       "      <td>Richmond Road, Hackney, Hackney, E8 3QN</td>\n",
       "      <td>full size</td>\n",
       "      <td>grass</td>\n",
       "    </tr>\n",
       "    <tr>\n",
       "      <th>6</th>\n",
       "      <td>Leyton Sports Ground</td>\n",
       "      <td>Crawley Road, Leyton, London, E10 6PY</td>\n",
       "      <td>nets</td>\n",
       "      <td>indoor</td>\n",
       "    </tr>\n",
       "    <tr>\n",
       "      <th>7</th>\n",
       "      <td>Leyton Sports Ground</td>\n",
       "      <td>Crawley Road, Leyton, London, E10 6PY</td>\n",
       "      <td>nets</td>\n",
       "      <td>artificial</td>\n",
       "    </tr>\n",
       "    <tr>\n",
       "      <th>8</th>\n",
       "      <td>Springfield Park</td>\n",
       "      <td>Spring Hill, Stamford Hill, Waltham Forest, E5 9EF</td>\n",
       "      <td>full size</td>\n",
       "      <td>grass</td>\n",
       "    </tr>\n",
       "    <tr>\n",
       "      <th>9</th>\n",
       "      <td>SPACe</td>\n",
       "      <td>31, Falkirk Street, London, N1 6HF</td>\n",
       "      <td>nets</td>\n",
       "      <td>grass</td>\n",
       "    </tr>\n",
       "  </tbody>\n",
       "</table>\n",
       "</div>"
      ],
      "text/plain": [
       "                               name  \\\n",
       "0      Mossbourne Community Academy   \n",
       "1  Mossbourne Victoria Park Academy   \n",
       "2            Low Hall Sports Ground   \n",
       "3                Hackney Downs Park   \n",
       "4                   Millfields Park   \n",
       "5                     London Fields   \n",
       "6              Leyton Sports Ground   \n",
       "7              Leyton Sports Ground   \n",
       "8                  Springfield Park   \n",
       "9                             SPACe   \n",
       "\n",
       "                                                       address      format  \\\n",
       "0           100 Downs Park Road, Hackney Downs, London, E5 8JY        nets   \n",
       "1                  Victoria Park Road, Hackney, London, E9 7HD        nets   \n",
       "2      South Access Road, Walthamstow, Waltham Forest, E17 8AX       pitch   \n",
       "3                Downs Park Road, Shacklewell, Hackney, E5 8NP   full size   \n",
       "4  Millfields Park, Millfields Road,  Hackney, Hackney, E5 0AR   full size   \n",
       "5                      Richmond Road, Hackney, Hackney, E8 3QN   full size   \n",
       "6                        Crawley Road, Leyton, London, E10 6PY        nets   \n",
       "7                        Crawley Road, Leyton, London, E10 6PY        nets   \n",
       "8           Spring Hill, Stamford Hill, Waltham Forest, E5 9EF   full size   \n",
       "9                           31, Falkirk Street, London, N1 6HF        nets   \n",
       "\n",
       "       surface  \n",
       "0  sports hall  \n",
       "1  sports hall  \n",
       "2        grass  \n",
       "3   artificial  \n",
       "4        grass  \n",
       "5        grass  \n",
       "6       indoor  \n",
       "7   artificial  \n",
       "8        grass  \n",
       "9        grass  "
      ]
     },
     "execution_count": 11,
     "metadata": {},
     "output_type": "execute_result"
    }
   ],
   "source": [
    "data.head(10)"
   ]
  },
  {
   "cell_type": "code",
   "execution_count": null,
   "id": "3e66dcdb",
   "metadata": {},
   "outputs": [],
   "source": []
  },
  {
   "cell_type": "code",
   "execution_count": 12,
   "id": "6e3efeb8",
   "metadata": {},
   "outputs": [],
   "source": [
    "# url_list = []\n",
    "\n",
    "# page_checking = True\n",
    "# page_count = 1\n",
    "\n",
    "\n",
    "# while page_checking:\n",
    "#     url = f\"https://www.playfinder.com/uk/results/cricket/london?latitude=51.5522353&longitude=-0.0616466&radius=5mi&page={page_count}&refine=true\"\n",
    "#     print(url)\n",
    "#     html_text = requests.get(url).text\n",
    "#     soup = BeautifulSoup(html_text, \"html.parser\")\n",
    "    \n",
    "#     last_page = soup.find(\"div\", {'class': \"col-9\"})#{'class': \"row mlp-main mb-3\"})   \n",
    "    \n",
    "#     print(last_page)\n",
    "                        \n",
    "#     if last_page is not None:\n",
    "#         print(\"Done loading pages!\")\n",
    "#         page_checking = False\n",
    "        \n",
    "#     else: \n",
    "#         url_list.append(url)\n",
    "#         page_count = page_count + 1\n",
    "#         print(\"*\"*50, page_count)        "
   ]
  },
  {
   "cell_type": "code",
   "execution_count": null,
   "id": "aef67b47",
   "metadata": {},
   "outputs": [],
   "source": []
  }
 ],
 "metadata": {
  "kernelspec": {
   "display_name": "Python 3 (ipykernel)",
   "language": "python",
   "name": "python3"
  },
  "language_info": {
   "codemirror_mode": {
    "name": "ipython",
    "version": 3
   },
   "file_extension": ".py",
   "mimetype": "text/x-python",
   "name": "python",
   "nbconvert_exporter": "python",
   "pygments_lexer": "ipython3",
   "version": "3.10.5"
  }
 },
 "nbformat": 4,
 "nbformat_minor": 5
}
